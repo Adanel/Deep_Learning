{
 "cells": [
  {
   "cell_type": "markdown",
   "metadata": {
    "colab_type": "text",
    "id": "PBFqSEkKqpCN"
   },
   "source": [
    "# Lab Deep Learning/ Recurrent Neural Networks/ in keras\n",
    "\n",
    "## Using Many-to-One for movie rating predicton\n",
    "\n",
    "**Author: geoffroy.peeters@telecom-paris.fr**\n",
    "\n",
    "For any remark or suggestion, please feel free to contact me.\n",
    "\n",
    "## Objective:\n",
    "We will implement two different networks to perform automatic rating (0 or 1) of a movie given the text of its review.\n",
    "We will use the ```imdb``` (internet movie database) dataset.\n",
    "\n",
    "The reviews are already available in the form of indexes that point to a word dictionary: each word is already encoded as an index in the dictionary."
   ]
  },
  {
   "cell_type": "markdown",
   "metadata": {
    "colab_type": "text",
    "id": "QmkCSNaXLqjh"
   },
   "source": [
    "## Import packages"
   ]
  },
  {
   "cell_type": "code",
   "execution_count": 0,
   "metadata": {
    "colab": {
     "base_uri": "https://localhost:8080/",
     "height": 35
    },
    "colab_type": "code",
    "id": "AOqjzDwioJj9",
    "outputId": "14b0ae79-7890-4003-bfa0-489101a519e0"
   },
   "outputs": [
    {
     "name": "stderr",
     "output_type": "stream",
     "text": [
      "Using TensorFlow backend.\n"
     ]
    }
   ],
   "source": [
    "import numpy as np\n",
    "from keras.datasets import imdb\n",
    "from keras.models import Sequential\n",
    "from keras.preprocessing import sequence\n",
    "from keras.layers import Dense, Activation, Embedding, Dropout, Input, LSTM, Reshape, Lambda, RepeatVector\n",
    "from keras import Model\n",
    "from keras import backend as K\n",
    "\n",
    "colab = True\n",
    "student = True"
   ]
  },
  {
   "cell_type": "markdown",
   "metadata": {
    "colab_type": "text",
    "id": "v5Yp4OQVvUtr"
   },
   "source": [
    "## Parameters of the model\n",
    "\n",
    "-  We only consider the ```top_words``` first words in the word dictionary\n",
    "- We truncate/zerp-pad each sequence a length ```max_review_length````"
   ]
  },
  {
   "cell_type": "code",
   "execution_count": 0,
   "metadata": {
    "colab": {},
    "colab_type": "code",
    "id": "4C_Pv7rYvRkM"
   },
   "outputs": [],
   "source": [
    "top_words = 5000 \n",
    "max_review_length = 100\n",
    "INDEX_FROM = 3"
   ]
  },
  {
   "cell_type": "markdown",
   "metadata": {
    "colab_type": "text",
    "id": "ZsNcRimyLzgP"
   },
   "source": [
    "## Import IMDB data"
   ]
  },
  {
   "cell_type": "code",
   "execution_count": 0,
   "metadata": {
    "colab": {
     "base_uri": "https://localhost:8080/",
     "height": 52
    },
    "colab_type": "code",
    "id": "5Gfe1ex8oN8Q",
    "outputId": "7ed5fb9e-c809-4300-ae75-96b178cb7185"
   },
   "outputs": [
    {
     "name": "stdout",
     "output_type": "stream",
     "text": [
      "Downloading data from https://s3.amazonaws.com/text-datasets/imdb.npz\n",
      "17465344/17464789 [==============================] - 0s 0us/step\n"
     ]
    }
   ],
   "source": [
    "# --- Import the IMDB data and only consider the ``top_words``` most used words\n",
    "if colab==False:\n",
    "    (X_train, y_train), (X_test, y_test) = imdb.load_data(num_words=top_words, index_from=INDEX_FROM)\n",
    "else:\n",
    "    # --- IF USING GOOGLE.COLAB\n",
    "    # --- save np.load\n",
    "    np_load_old = np.load\n",
    "    # --- modify the default parameters of np.load\n",
    "    #np.load = lambda *a,**k: np_load_old(*a, allow_pickle=True, **k)\n",
    "    np.load.__defaults__ = (None, True, True, 'ASCII')\n",
    "    # --- call load_data with allow_pickle implicitly set to true\n",
    "    (X_train, y_train), (X_test, y_test) = imdb.load_data(num_words=top_words)\n",
    "    # --- restore np.load for future normal usage\n",
    "    np.load = np_load_old"
   ]
  },
  {
   "cell_type": "code",
   "execution_count": 0,
   "metadata": {
    "colab": {
     "base_uri": "https://localhost:8080/",
     "height": 55
    },
    "colab_type": "code",
    "id": "Ljzdx_z-_HMy",
    "outputId": "ab22f8e5-f041-452a-cd57-0846c5b4e599"
   },
   "outputs": [
    {
     "name": "stdout",
     "output_type": "stream",
     "text": [
      "[1, 14, 22, 16, 43, 530, 973, 1622, 1385, 65, 458, 4468, 66, 3941, 4, 173, 36, 256, 5, 25, 100, 43, 838, 112, 50, 670, 2, 9, 35, 480, 284, 5, 150, 4, 172, 112, 167, 2, 336, 385, 39, 4, 172, 4536, 1111, 17, 546, 38, 13, 447, 4, 192, 50, 16, 6, 147, 2025, 19, 14, 22, 4, 1920, 4613, 469, 4, 22, 71, 87, 12, 16, 43, 530, 38, 76, 15, 13, 1247, 4, 22, 17, 515, 17, 12, 16, 626, 18, 2, 5, 62, 386, 12, 8, 316, 8, 106, 5, 4, 2223, 2, 16, 480, 66, 3785, 33, 4, 130, 12, 16, 38, 619, 5, 25, 124, 51, 36, 135, 48, 25, 1415, 33, 6, 22, 12, 215, 28, 77, 52, 5, 14, 407, 16, 82, 2, 8, 4, 107, 117, 2, 15, 256, 4, 2, 7, 3766, 5, 723, 36, 71, 43, 530, 476, 26, 400, 317, 46, 7, 4, 2, 1029, 13, 104, 88, 4, 381, 15, 297, 98, 32, 2071, 56, 26, 141, 6, 194, 2, 18, 4, 226, 22, 21, 134, 476, 26, 480, 5, 144, 30, 2, 18, 51, 36, 28, 224, 92, 25, 104, 4, 226, 65, 16, 38, 1334, 88, 12, 16, 283, 5, 16, 4472, 113, 103, 32, 15, 16, 2, 19, 178, 32]\n"
     ]
    }
   ],
   "source": [
    "print(X_train[0])"
   ]
  },
  {
   "cell_type": "code",
   "execution_count": 0,
   "metadata": {
    "colab": {
     "base_uri": "https://localhost:8080/",
     "height": 35
    },
    "colab_type": "code",
    "id": "Blo21V-Kp8DE",
    "outputId": "12c7b4f7-6c91-4cba-9537-1229f7e88a2b"
   },
   "outputs": [
    {
     "data": {
      "text/plain": [
       "189"
      ]
     },
     "execution_count": 5,
     "metadata": {
      "tags": []
     },
     "output_type": "execute_result"
    }
   ],
   "source": [
    "len(X_train[1])"
   ]
  },
  {
   "cell_type": "code",
   "execution_count": 0,
   "metadata": {
    "colab": {
     "base_uri": "https://localhost:8080/",
     "height": 35
    },
    "colab_type": "code",
    "id": "UEpzyFNX_HM0",
    "outputId": "c7a5f835-3d97-4def-d95b-cddc974ab69a"
   },
   "outputs": [
    {
     "name": "stdout",
     "output_type": "stream",
     "text": [
      "[1 0 0 ... 0 1 0]\n"
     ]
    }
   ],
   "source": [
    "print(y_train)"
   ]
  },
  {
   "cell_type": "markdown",
   "metadata": {
    "colab_type": "text",
    "id": "iSc5LmksOLyr"
   },
   "source": [
    "## Data content\n",
    "\n",
    "- ```X_train``` and ```X_test``` are numpy arrays of lists. \n",
    "  - each item in a list is the index in the word dictionary. So that a list is the sequence of index of words.\n",
    "\n",
    "- ```y_train``` and ```y_test``` are a numpy arrays of the same dimension as ```X_train``` and ```X_test``` \n",
    "  - they contains the values 0 (bad movie) or 1 (good movie)"
   ]
  },
  {
   "cell_type": "code",
   "execution_count": 0,
   "metadata": {
    "colab": {
     "base_uri": "https://localhost:8080/",
     "height": 414
    },
    "colab_type": "code",
    "id": "WouODCPrtiuu",
    "outputId": "d1208976-994b-4ddb-9b00-5289d253f98c"
   },
   "outputs": [
    {
     "name": "stdout",
     "output_type": "stream",
     "text": [
      "type(X_train): <class 'numpy.ndarray'>\n",
      "number of training sequences: X_train.shape: (25000,)\n",
      "type(X_train[0]): <class 'list'>\n",
      "length of the first training sequence: len(X_train[0]): 218\n",
      "length of the second training sequence: len(X_train[1]): 189\n",
      "list of data of the first training sequence: X_train[0]: [1, 14, 22, 16, 43, 530, 973, 1622, 1385, 65, 458, 4468, 66, 3941, 4, 173, 36, 256, 5, 25, 100, 43, 838, 112, 50, 670, 2, 9, 35, 480, 284, 5, 150, 4, 172, 112, 167, 2, 336, 385, 39, 4, 172, 4536, 1111, 17, 546, 38, 13, 447, 4, 192, 50, 16, 6, 147, 2025, 19, 14, 22, 4, 1920, 4613, 469, 4, 22, 71, 87, 12, 16, 43, 530, 38, 76, 15, 13, 1247, 4, 22, 17, 515, 17, 12, 16, 626, 18, 2, 5, 62, 386, 12, 8, 316, 8, 106, 5, 4, 2223, 2, 16, 480, 66, 3785, 33, 4, 130, 12, 16, 38, 619, 5, 25, 124, 51, 36, 135, 48, 25, 1415, 33, 6, 22, 12, 215, 28, 77, 52, 5, 14, 407, 16, 82, 2, 8, 4, 107, 117, 2, 15, 256, 4, 2, 7, 3766, 5, 723, 36, 71, 43, 530, 476, 26, 400, 317, 46, 7, 4, 2, 1029, 13, 104, 88, 4, 381, 15, 297, 98, 32, 2071, 56, 26, 141, 6, 194, 2, 18, 4, 226, 22, 21, 134, 476, 26, 480, 5, 144, 30, 2, 18, 51, 36, 28, 224, 92, 25, 104, 4, 226, 65, 16, 38, 1334, 88, 12, 16, 283, 5, 16, 4472, 113, 103, 32, 15, 16, 2, 19, 178, 32]\n",
      "maximum length of a training sequence: 2494\n"
     ]
    },
    {
     "data": {
      "image/png": "[encoded data removed]",
      "text/plain": [
       "<Figure size 432x288 with 1 Axes>"
      ]
     },
     "metadata": {
      "tags": []
     },
     "output_type": "display_data"
    }
   ],
   "source": [
    "print(\"type(X_train):\", type(X_train))\n",
    "print(\"number of training sequences: X_train.shape:\", X_train.shape)\n",
    "print(\"type(X_train[0]):\",type(X_train[0]))\n",
    "print(\"length of the first training sequence: len(X_train[0]):\",len(X_train[0]))\n",
    "print(\"length of the second training sequence: len(X_train[1]):\",len(X_train[1]))\n",
    "print(\"list of data of the first training sequence: X_train[0]:\", X_train[0] )\n",
    "len_list = [len(train) for train in X_train]\n",
    "print(\"maximum length of a training sequence:\", max(len_list))\n",
    "\n",
    "import matplotlib.pyplot as plt\n",
    "plt.hist(len_list, 100);"
   ]
  },
  {
   "cell_type": "markdown",
   "metadata": {
    "colab_type": "text",
    "id": "2I-cEKUh_HM4"
   },
   "source": [
    "## Details of how the reviews are encoded"
   ]
  },
  {
   "cell_type": "code",
   "execution_count": 0,
   "metadata": {
    "colab": {
     "base_uri": "https://localhost:8080/",
     "height": 90
    },
    "colab_type": "code",
    "id": "XcOwiMUT_HM5",
    "outputId": "30c88c99-5fdf-4de5-e11e-821c688a4806"
   },
   "outputs": [
    {
     "name": "stdout",
     "output_type": "stream",
     "text": [
      "Downloading data from https://s3.amazonaws.com/text-datasets/imdb_word_index.json\n",
      "1646592/1641221 [==============================] - 0s 0us/step\n",
      "<START> although i had seen <UNK> in a theater way back in <UNK> i couldn't remember anything of the plot except for vague images of kurt thomas running and fighting against a backdrop of stone walls and disappointment regarding the ending br br after reading some of the other reviews i picked up a copy of the newly released dvd to once again enter the world of <UNK> br br it turns out this is one of those films produced during the <UNK> that would go directly to video today the film stars <UNK> <UNK> kurt thomas as jonathan <UNK> <UNK> out of the blue to <UNK> the nation of <UNK> to enter and hopefully win the game a <UNK> <UNK> <UNK> by the khan who <UNK> his people by yelling what sounds like <UNK> power the goal of the mission involves the star wars defense system jonathan is trained in the martial arts by princess <UNK> who never speaks or leaves the house once trained tries to blend in with the <UNK> by wearing a bright red <UNK> with <UNK> of blue and white needless to say <UNK> finds himself running and fighting for his life along the stone streets of <UNK> on his way to a date with destiny and the game br br star kurt thomas was ill served by director robert <UNK> who it looks like was never on the set the so called script is just this side of incompetent see other reviews for the many <UNK> throughout the town of <UNK> has a few good moments but is ultimately ruined by bad editing the ending <UNK> still there's the <UNK> of a good action adventure here a hong kong version with more <UNK> action and faster pace might even be pretty good\n"
     ]
    }
   ],
   "source": [
    "word_to_id = imdb.get_word_index()\n",
    "word_to_id = {k:(v+INDEX_FROM) for k,v in word_to_id.items()}\n",
    "word_to_id[\"<PAD>\"] = 0\n",
    "word_to_id[\"<START>\"] = 1\n",
    "word_to_id[\"<UNK>\"] = 2\n",
    "\n",
    "id_to_word = {value:key for key,value in word_to_id.items()}\n",
    "print(' '.join(id_to_word[id] for id in X_train[1000] ))"
   ]
  },
  {
   "cell_type": "code",
   "execution_count": 0,
   "metadata": {
    "colab": {
     "base_uri": "https://localhost:8080/",
     "height": 52
    },
    "colab_type": "code",
    "id": "Hfl42LGCugWB",
    "outputId": "0ceaaf3e-7c8c-4af1-910f-93e9aa1769b7"
   },
   "outputs": [
    {
     "name": "stdout",
     "output_type": "stream",
     "text": [
      "type(y_train): <class 'numpy.ndarray'>\n",
      "y_train.shape: (25000,)\n"
     ]
    }
   ],
   "source": [
    "print(\"type(y_train):\", type(y_train))\n",
    "print(\"y_train.shape:\", y_train.shape)"
   ]
  },
  {
   "cell_type": "code",
   "execution_count": 0,
   "metadata": {
    "colab": {
     "base_uri": "https://localhost:8080/",
     "height": 52
    },
    "colab_type": "code",
    "id": "iVw65PNNuobX",
    "outputId": "f75e94d2-342a-4332-9127-ccef3c6ef1d0"
   },
   "outputs": [
    {
     "name": "stdout",
     "output_type": "stream",
     "text": [
      "X_test.shape: (25000,)\n",
      "y_test.shape: (25000,)\n"
     ]
    }
   ],
   "source": [
    "print(\"X_test.shape:\", X_test.shape)\n",
    "print(\"y_test.shape:\", y_test.shape)"
   ]
  },
  {
   "cell_type": "markdown",
   "metadata": {
    "colab_type": "text",
    "id": "V18OA7oQNH3c"
   },
   "source": [
    "## Data processing\n",
    "\n",
    "Sequences (represented as a list of values) in ```X_train``` represent the reviews.\n",
    "They can have different length.\n",
    "To train the network we should modify them so that they all have the same length.\n",
    "We do this by:\n",
    "- truncating the ones that are too long\n",
    "- padding-with-zero them the ones that are too short.\n",
    "\n",
    "This is obtained using ```sequence.pad_sequences``` of keras."
   ]
  },
  {
   "cell_type": "code",
   "execution_count": 0,
   "metadata": {
    "colab": {
     "base_uri": "https://localhost:8080/",
     "height": 195
    },
    "colab_type": "code",
    "id": "JhmiHsOGoRwT",
    "outputId": "a6a4ee3d-5cf4-4b57-b4b3-528fd582a2fb"
   },
   "outputs": [
    {
     "name": "stdout",
     "output_type": "stream",
     "text": [
      "len(X_train[0]): 100\n",
      "len(X_train[1]): 100\n",
      "X_train[0]: [1415   33    6   22   12  215   28   77   52    5   14  407   16   82\n",
      "    2    8    4  107  117    2   15  256    4    2    7 3766    5  723\n",
      "   36   71   43  530  476   26  400  317   46    7    4    2 1029   13\n",
      "  104   88    4  381   15  297   98   32 2071   56   26  141    6  194\n",
      "    2   18    4  226   22   21  134  476   26  480    5  144   30    2\n",
      "   18   51   36   28  224   92   25  104    4  226   65   16   38 1334\n",
      "   88   12   16  283    5   16 4472  113  103   32   15   16    2   19\n",
      "  178   32]\n"
     ]
    }
   ],
   "source": [
    "# --- truncate and pad input sequences\n",
    "\n",
    "if student:\n",
    "    X_train = sequence.pad_sequences(X_train, maxlen=max_review_length)\n",
    "    X_test = sequence.pad_sequences(X_test, maxlen=max_review_length)\n",
    "\n",
    "print(\"len(X_train[0]):\", len(X_train[0]))\n",
    "print(\"len(X_train[1]):\", len(X_train[1]))\n",
    "print(\"X_train[0]:\", X_train[0])"
   ]
  },
  {
   "cell_type": "markdown",
   "metadata": {
    "colab_type": "text",
    "id": "YlrDTuk5K65Q"
   },
   "source": [
    "# First model\n",
    "\n",
    "In the first model, we will simply \n",
    "- learn a word embedding  (```Embedding``` layer in keras) and apply it to each item of the sequence, \n",
    "  -  in keras, embedding is not a matrix going from one-hot-encoding to embedding, but is a layer that goes from index-in-word-dictionary to embedding\n",
    "  - the embedding goes from ```top_words``` dimensions to  ```embedding_vector_length``` dimensions\n",
    "- average the embedding obtained for each word of a sequence over all words of the sequence (you should use ```K.mean``` and ```Lambda``` from the keras backend)\n",
    "- apply a fully connected (```Dense``` layer in keras) which output activation is a sigmoid (predicting the 0 or 1 rating)\n",
    "\n",
    "We will code this model \n",
    "- First, using the Sequential API of keras (https://keras.io/models/sequential/)\n",
    "- Secondly, using the Functional API of keras (https://keras.io/getting-started/functional-api-guide/)\n"
   ]
  },
  {
   "cell_type": "code",
   "execution_count": 0,
   "metadata": {
    "colab": {
     "base_uri": "https://localhost:8080/",
     "height": 144
    },
    "colab_type": "code",
    "id": "ufW00TGcs3Jj",
    "outputId": "82f89a02-d793-4195-9f4c-32a3f26191bf"
   },
   "outputs": [
    {
     "name": "stdout",
     "output_type": "stream",
     "text": [
      "WARNING:tensorflow:From /usr/local/lib/python3.6/dist-packages/keras/backend/tensorflow_backend.py:107: The name tf.reset_default_graph is deprecated. Please use tf.compat.v1.reset_default_graph instead.\n",
      "\n",
      "WARNING:tensorflow:From /usr/local/lib/python3.6/dist-packages/keras/backend/tensorflow_backend.py:111: The name tf.placeholder_with_default is deprecated. Please use tf.compat.v1.placeholder_with_default instead.\n",
      "\n",
      "WARNING:tensorflow:From /usr/local/lib/python3.6/dist-packages/keras/backend/tensorflow_backend.py:66: The name tf.get_default_graph is deprecated. Please use tf.compat.v1.get_default_graph instead.\n",
      "\n"
     ]
    }
   ],
   "source": [
    "K.clear_session()"
   ]
  },
  {
   "cell_type": "code",
   "execution_count": 0,
   "metadata": {
    "colab": {
     "base_uri": "https://localhost:8080/",
     "height": 695
    },
    "colab_type": "code",
    "id": "zspaUptgtW9l",
    "outputId": "1175d3b2-76d7-40cd-fb9e-b3b489751582"
   },
   "outputs": [
    {
     "name": "stdout",
     "output_type": "stream",
     "text": [
      "WARNING:tensorflow:From /usr/local/lib/python3.6/dist-packages/keras/backend/tensorflow_backend.py:541: The name tf.placeholder is deprecated. Please use tf.compat.v1.placeholder instead.\n",
      "\n",
      "WARNING:tensorflow:From /usr/local/lib/python3.6/dist-packages/keras/backend/tensorflow_backend.py:4432: The name tf.random_uniform is deprecated. Please use tf.random.uniform instead.\n",
      "\n",
      "Model: \"sequential_1\"\n",
      "_________________________________________________________________\n",
      "Layer (type)                 Output Shape              Param #   \n",
      "=================================================================\n",
      "embedding_1 (Embedding)      (None, None, 32)          160000    \n",
      "_________________________________________________________________\n",
      "lambda_1 (Lambda)            (None, 32)                0         \n",
      "_________________________________________________________________\n",
      "dense_1 (Dense)              (None, 1)                 33        \n",
      "=================================================================\n",
      "Total params: 160,033\n",
      "Trainable params: 160,033\n",
      "Non-trainable params: 0\n",
      "_________________________________________________________________\n",
      "None\n",
      "Model: \"model_1\"\n",
      "_________________________________________________________________\n",
      "Layer (type)                 Output Shape              Param #   \n",
      "=================================================================\n",
      "input_1 (InputLayer)         (None, None)              0         \n",
      "_________________________________________________________________\n",
      "embedding_2 (Embedding)      (None, None, 32)          160000    \n",
      "_________________________________________________________________\n",
      "lambda_2 (Lambda)            (None, 32)                0         \n",
      "_________________________________________________________________\n",
      "dense_2 (Dense)              (None, 1)                 33        \n",
      "=================================================================\n",
      "Total params: 160,033\n",
      "Trainable params: 160,033\n",
      "Non-trainable params: 0\n",
      "_________________________________________________________________\n",
      "None\n"
     ]
    },
    {
     "name": "stderr",
     "output_type": "stream",
     "text": [
      "/usr/local/lib/python3.6/dist-packages/ipykernel_launcher.py:19: UserWarning: Update your `Model` call to the Keras 2 API: `Model(inputs=Tensor(\"in..., outputs=Tensor(\"de...)`\n"
     ]
    }
   ],
   "source": [
    "# --- create the model\n",
    "embedding_vector_length = 32\n",
    "\n",
    "# CODE-RNN1-2\n",
    "if student:\n",
    "    # --- Using the Sequential API\n",
    "    model_seq = Sequential()\n",
    "    model_seq.add(Embedding(top_words, output_dim = embedding_vector_length))\n",
    "    model_seq.add(Lambda(lambda x : K.mean(x, axis=1, keepdims=False)))\n",
    "    model_seq.add(Dense(1, activation='sigmoid'))\n",
    "    \n",
    "    # --- Using the Functional API\n",
    "    x_input =  Input(shape=(None,))\n",
    "    x = Embedding(top_words, embedding_vector_length)(x_input)   \n",
    "    x = Lambda((lambda x : K.mean(x, axis=1, keepdims=False)))(x)  \n",
    "    x = Dense(1, activation='sigmoid')(x)  \n",
    "    model_func = Model(inputs = x_input, output=x)\n",
    "    \n",
    "print(model_seq.summary())\n",
    "print(model_func.summary())"
   ]
  },
  {
   "cell_type": "code",
   "execution_count": 0,
   "metadata": {
    "colab": {
     "base_uri": "https://localhost:8080/",
     "height": 1000
    },
    "colab_type": "code",
    "id": "pFXz4AS6tawQ",
    "outputId": "6e754c5a-b25f-49f9-c415-2dfba301b927"
   },
   "outputs": [
    {
     "name": "stdout",
     "output_type": "stream",
     "text": [
      "WARNING:tensorflow:From /usr/local/lib/python3.6/dist-packages/keras/optimizers.py:793: The name tf.train.Optimizer is deprecated. Please use tf.compat.v1.train.Optimizer instead.\n",
      "\n",
      "WARNING:tensorflow:From /usr/local/lib/python3.6/dist-packages/keras/backend/tensorflow_backend.py:3657: The name tf.log is deprecated. Please use tf.math.log instead.\n",
      "\n",
      "WARNING:tensorflow:From /usr/local/lib/python3.6/dist-packages/tensorflow_core/python/ops/nn_impl.py:183: where (from tensorflow.python.ops.array_ops) is deprecated and will be removed in a future version.\n",
      "Instructions for updating:\n",
      "Use tf.where in 2.0, which has the same broadcast rule as np.where\n",
      "WARNING:tensorflow:From /usr/local/lib/python3.6/dist-packages/keras/backend/tensorflow_backend.py:1033: The name tf.assign_add is deprecated. Please use tf.compat.v1.assign_add instead.\n",
      "\n",
      "WARNING:tensorflow:From /usr/local/lib/python3.6/dist-packages/keras/backend/tensorflow_backend.py:1020: The name tf.assign is deprecated. Please use tf.compat.v1.assign instead.\n",
      "\n",
      "WARNING:tensorflow:From /usr/local/lib/python3.6/dist-packages/keras/backend/tensorflow_backend.py:3005: The name tf.Session is deprecated. Please use tf.compat.v1.Session instead.\n",
      "\n",
      "Train on 25000 samples, validate on 25000 samples\n",
      "Epoch 1/10\n",
      "WARNING:tensorflow:From /usr/local/lib/python3.6/dist-packages/keras/backend/tensorflow_backend.py:190: The name tf.get_default_session is deprecated. Please use tf.compat.v1.get_default_session instead.\n",
      "\n",
      "WARNING:tensorflow:From /usr/local/lib/python3.6/dist-packages/keras/backend/tensorflow_backend.py:197: The name tf.ConfigProto is deprecated. Please use tf.compat.v1.ConfigProto instead.\n",
      "\n",
      "WARNING:tensorflow:From /usr/local/lib/python3.6/dist-packages/keras/backend/tensorflow_backend.py:207: The name tf.global_variables is deprecated. Please use tf.compat.v1.global_variables instead.\n",
      "\n",
      "WARNING:tensorflow:From /usr/local/lib/python3.6/dist-packages/keras/backend/tensorflow_backend.py:216: The name tf.is_variable_initialized is deprecated. Please use tf.compat.v1.is_variable_initialized instead.\n",
      "\n",
      "WARNING:tensorflow:From /usr/local/lib/python3.6/dist-packages/keras/backend/tensorflow_backend.py:223: The name tf.variables_initializer is deprecated. Please use tf.compat.v1.variables_initializer instead.\n",
      "\n",
      "25000/25000 [==============================] - 3s 136us/step - loss: 0.6395 - acc: 0.7120 - val_loss: 0.5635 - val_acc: 0.7742\n",
      "Epoch 2/10\n",
      "25000/25000 [==============================] - 2s 99us/step - loss: 0.4875 - acc: 0.8111 - val_loss: 0.4403 - val_acc: 0.8233\n",
      "Epoch 3/10\n",
      "25000/25000 [==============================] - 3s 100us/step - loss: 0.3947 - acc: 0.8441 - val_loss: 0.3853 - val_acc: 0.8358\n",
      "Epoch 4/10\n",
      "25000/25000 [==============================] - 2s 98us/step - loss: 0.3476 - acc: 0.8597 - val_loss: 0.3590 - val_acc: 0.8446\n",
      "Epoch 5/10\n",
      "25000/25000 [==============================] - 2s 95us/step - loss: 0.3192 - acc: 0.8698 - val_loss: 0.3452 - val_acc: 0.8492\n",
      "Epoch 6/10\n",
      "25000/25000 [==============================] - 2s 92us/step - loss: 0.2997 - acc: 0.8773 - val_loss: 0.3378 - val_acc: 0.8514\n",
      "Epoch 7/10\n",
      "25000/25000 [==============================] - 2s 97us/step - loss: 0.2849 - acc: 0.8839 - val_loss: 0.3347 - val_acc: 0.8534\n",
      "Epoch 8/10\n",
      "25000/25000 [==============================] - 2s 97us/step - loss: 0.2730 - acc: 0.8894 - val_loss: 0.3337 - val_acc: 0.8539\n",
      "Epoch 9/10\n",
      "25000/25000 [==============================] - 3s 110us/step - loss: 0.2636 - acc: 0.8925 - val_loss: 0.3345 - val_acc: 0.8551\n",
      "Epoch 10/10\n",
      "25000/25000 [==============================] - 3s 114us/step - loss: 0.2559 - acc: 0.8959 - val_loss: 0.3366 - val_acc: 0.8546\n",
      "Train on 25000 samples, validate on 25000 samples\n",
      "Epoch 1/10\n",
      "25000/25000 [==============================] - 3s 119us/step - loss: 0.6402 - acc: 0.7035 - val_loss: 0.5656 - val_acc: 0.7730\n",
      "Epoch 2/10\n",
      "25000/25000 [==============================] - 3s 102us/step - loss: 0.4887 - acc: 0.8128 - val_loss: 0.4415 - val_acc: 0.8200\n",
      "Epoch 3/10\n",
      "25000/25000 [==============================] - 2s 95us/step - loss: 0.3950 - acc: 0.8453 - val_loss: 0.3862 - val_acc: 0.8356\n",
      "Epoch 4/10\n",
      "25000/25000 [==============================] - 2s 97us/step - loss: 0.3477 - acc: 0.8585 - val_loss: 0.3599 - val_acc: 0.8430\n",
      "Epoch 5/10\n",
      "25000/25000 [==============================] - 2s 94us/step - loss: 0.3193 - acc: 0.8700 - val_loss: 0.3456 - val_acc: 0.8475\n",
      "Epoch 6/10\n",
      "25000/25000 [==============================] - 3s 102us/step - loss: 0.2995 - acc: 0.8768 - val_loss: 0.3408 - val_acc: 0.8490\n",
      "Epoch 7/10\n",
      "25000/25000 [==============================] - 2s 99us/step - loss: 0.2849 - acc: 0.8826 - val_loss: 0.3346 - val_acc: 0.8530\n",
      "Epoch 8/10\n",
      "25000/25000 [==============================] - 3s 102us/step - loss: 0.2731 - acc: 0.8887 - val_loss: 0.3339 - val_acc: 0.8536\n",
      "Epoch 9/10\n",
      "25000/25000 [==============================] - 3s 109us/step - loss: 0.2635 - acc: 0.8922 - val_loss: 0.3360 - val_acc: 0.8517\n",
      "Epoch 10/10\n",
      "25000/25000 [==============================] - 2s 90us/step - loss: 0.2559 - acc: 0.8960 - val_loss: 0.3370 - val_acc: 0.8544\n"
     ]
    },
    {
     "data": {
      "text/plain": [
       "<keras.callbacks.History at 0x7f48f917c208>"
      ]
     },
     "execution_count": 14,
     "metadata": {
      "tags": []
     },
     "output_type": "execute_result"
    }
   ],
   "source": [
    "# --- compile and fit the model\n",
    "model_seq.compile(loss='binary_crossentropy', optimizer='adam', metrics=['accuracy'])\n",
    "model_seq.fit(X_train, y_train, epochs=10, batch_size=64, validation_data=(X_test, y_test))\n",
    "\n",
    "model_func.compile(loss='binary_crossentropy', optimizer='adam', metrics=['accuracy'])\n",
    "model_func.fit(X_train, y_train, epochs=10, batch_size=64, validation_data=(X_test, y_test))"
   ]
  },
  {
   "cell_type": "markdown",
   "metadata": {
    "colab_type": "text",
    "id": "SBqyzLJRUIsC"
   },
   "source": [
    "## Results\n",
    "\n",
    "After only 3 epochs, you should obtain an accuracy around 84% for the test data."
   ]
  },
  {
   "cell_type": "code",
   "execution_count": 0,
   "metadata": {
    "colab": {
     "base_uri": "https://localhost:8080/",
     "height": 52
    },
    "colab_type": "code",
    "id": "nCALyP-Q_HNH",
    "outputId": "ebd60001-13f9-4c77-bc06-b02577c7f39a"
   },
   "outputs": [
    {
     "name": "stdout",
     "output_type": "stream",
     "text": [
      "Accuracy: 85.46%\n",
      "Accuracy: 85.44%\n"
     ]
    }
   ],
   "source": [
    "# --- Final evaluation of the model\n",
    "scores_seq = model_seq.evaluate(X_test, y_test, verbose=0)\n",
    "print(\"Accuracy: %.2f%%\" % (scores_seq[1]*100))\n",
    "\n",
    "scores_func = model_func.evaluate(X_test, y_test, verbose=0)\n",
    "print(\"Accuracy: %.2f%%\" % (scores_func[1]*100))"
   ]
  },
  {
   "cell_type": "markdown",
   "metadata": {
    "colab_type": "text",
    "id": "uRP-h4Xr_HNJ"
   },
   "source": [
    "## Using the trained embedding to find equivalence between words\n",
    "\n",
    "Since the embedding is part of the models, we can look at the trained embedding matrix $E$ and use it to get the most similar words (according to the trained matrix $E$) in the dictionary.\n",
    "Use the weights of the ```Embedding``` layer to find the most similar words to ```great```. We will use an Euclidean distance for that.\n",
    "- Retrieve the weights of the ```Embedding layer```\n",
    "- Get the position of ```great``` in the dictionary\n",
    "- Get the word-embedding of ```great```\n",
    "- Find (using Euclidean distance), the closest embedded-words to ```great```"
   ]
  },
  {
   "cell_type": "code",
   "execution_count": 0,
   "metadata": {
    "colab": {},
    "colab_type": "code",
    "id": "oIfoyQL6FhHl"
   },
   "outputs": [],
   "source": [
    "weights = model_seq.layers[0].get_weights()[0] #get the weights"
   ]
  },
  {
   "cell_type": "code",
   "execution_count": 0,
   "metadata": {
    "colab": {
     "base_uri": "https://localhost:8080/",
     "height": 141
    },
    "colab_type": "code",
    "id": "QEzjIE91Gglb",
    "outputId": "b09f083f-cc35-4f11-b5e6-27392a00522d"
   },
   "outputs": [
    {
     "data": {
      "text/plain": [
       "array([ 0.94956344, -0.91845185, -0.9412979 , -0.79799086, -0.8094439 ,\n",
       "       -0.9348831 ,  0.7211842 , -0.9722321 , -0.85619956, -0.8477508 ,\n",
       "        0.9587648 ,  0.78302044, -0.97461504,  0.7497419 ,  0.9128162 ,\n",
       "        0.80423605, -0.87765354, -0.8278035 ,  0.8350583 ,  0.7342748 ,\n",
       "        0.895152  , -0.9536495 , -0.8179681 , -0.790588  , -0.8472784 ,\n",
       "        0.8393302 ,  0.8596531 ,  0.90366226, -0.7248128 , -0.96666235,\n",
       "       -0.7764265 , -0.7898214 ], dtype=float32)"
      ]
     },
     "execution_count": 19,
     "metadata": {
      "tags": []
     },
     "output_type": "execute_result"
    }
   ],
   "source": [
    "great_position = word_to_id[\"great\"] #position of the word great\n",
    "great_word = model_seq.layers[0].get_weights()[0][great_position] #weight for the word great\n",
    "great_word"
   ]
  },
  {
   "cell_type": "code",
   "execution_count": 0,
   "metadata": {
    "colab": {},
    "colab_type": "code",
    "id": "7xMubRqJ_HNJ"
   },
   "outputs": [],
   "source": [
    "if student:\n",
    "    # we calculate the euclidian distance between the word great and all the other words  \n",
    "    E = [np.linalg.norm(great_word - model_seq.layers[0].get_weights()[0][i]) for i in range(0, top_words)]\n",
    "\n",
    "# we create a list with the top 10 closest words to great    \n",
    "closest = (sorted([(x,i) for (i,x) in enumerate(E)], reverse=False)[:10])"
   ]
  },
  {
   "cell_type": "code",
   "execution_count": 0,
   "metadata": {
    "colab": {
     "base_uri": "https://localhost:8080/",
     "height": 55
    },
    "colab_type": "code",
    "id": "rTYOiQCg-t1g",
    "outputId": "e20aba65-27cd-4dd4-b354-46ad9fd3dd4e"
   },
   "outputs": [
    {
     "name": "stdout",
     "output_type": "stream",
     "text": [
      "[(15.3818655, 'waste'), (14.987818, 'worst'), (13.121224, 'awful'), (13.005503, 'dull'), (12.081928, 'mess'), (11.772, 'pointless'), (11.518406, 'avoid'), (11.499681, 'poorly'), (11.388024, 'boring'), (11.355302, 'disappointing')]\n"
     ]
    }
   ],
   "source": [
    "#print words\n",
    "print([(x, id_to_word[i]) for (x,i) in closest])"
   ]
  },
  {
   "cell_type": "markdown",
   "metadata": {
    "colab_type": "text",
    "id": "zK9e5Eo1Ks2a"
   },
   "source": [
    "# Second model\n",
    "\n",
    "In the second model, we will replace\n",
    "- the average over the sequence of the obtained embedding\n",
    "- by a RNN layer (more precisely an ```LSTM```) in a Many-To-One configuration with $n_a=100$\n",
    "\n",
    "We will code this model \n",
    "- First, using the Sequential API of keras (https://keras.io/models/sequential/)\n",
    "- Secondly, using the Functional API of keras (https://keras.io/getting-started/functional-api-guide/)\n",
    "\n"
   ]
  },
  {
   "cell_type": "code",
   "execution_count": 0,
   "metadata": {
    "colab": {},
    "colab_type": "code",
    "id": "rwoXuOqqVDOy"
   },
   "outputs": [],
   "source": [
    "K.clear_session()"
   ]
  },
  {
   "cell_type": "code",
   "execution_count": 0,
   "metadata": {
    "colab": {
     "base_uri": "https://localhost:8080/",
     "height": 624
    },
    "colab_type": "code",
    "id": "7dl-CSMKoViX",
    "outputId": "fec1bfc0-9412-4b98-abab-c777648954a0"
   },
   "outputs": [
    {
     "name": "stdout",
     "output_type": "stream",
     "text": [
      "Model: \"sequential_2\"\n",
      "_________________________________________________________________\n",
      "Layer (type)                 Output Shape              Param #   \n",
      "=================================================================\n",
      "embedding_2 (Embedding)      (None, None, 32)          160000    \n",
      "_________________________________________________________________\n",
      "lstm_1 (LSTM)                (None, 100)               53200     \n",
      "_________________________________________________________________\n",
      "dense_1 (Dense)              (None, 1)                 101       \n",
      "=================================================================\n",
      "Total params: 213,301\n",
      "Trainable params: 213,301\n",
      "Non-trainable params: 0\n",
      "_________________________________________________________________\n",
      "None\n",
      "Model: \"model_1\"\n",
      "_________________________________________________________________\n",
      "Layer (type)                 Output Shape              Param #   \n",
      "=================================================================\n",
      "input_1 (InputLayer)         (None, None)              0         \n",
      "_________________________________________________________________\n",
      "embedding_3 (Embedding)      (None, None, 32)          160000    \n",
      "_________________________________________________________________\n",
      "lstm_2 (LSTM)                (None, 100)               53200     \n",
      "_________________________________________________________________\n",
      "dense_2 (Dense)              (None, 1)                 101       \n",
      "=================================================================\n",
      "Total params: 213,301\n",
      "Trainable params: 213,301\n",
      "Non-trainable params: 0\n",
      "_________________________________________________________________\n",
      "None\n"
     ]
    },
    {
     "name": "stderr",
     "output_type": "stream",
     "text": [
      "/usr/local/lib/python3.6/dist-packages/ipykernel_launcher.py:17: UserWarning: Update your `Model` call to the Keras 2 API: `Model(inputs=Tensor(\"in..., outputs=Tensor(\"de...)`\n"
     ]
    }
   ],
   "source": [
    "# --- create the model\n",
    "\n",
    "if student:\n",
    "    # --- Using the Sequential API\n",
    "    model_seq = Sequential()\n",
    "    model_seq.add(Embedding(top_words, output_dim = embedding_vector_length))\n",
    "    model_seq.add(LSTM(100, return_sequences=False))\n",
    "    model_seq.add(Dense(1, activation='sigmoid'))\n",
    "    \n",
    "    # --- Using the Functional API\n",
    "    x_input =  Input(shape=(None,))\n",
    "    x = Embedding(top_words, embedding_vector_length)(x_input) \n",
    "    x = LSTM(100, return_sequences=False)(x)\n",
    "    x = Dense(1, activation='sigmoid')(x)\n",
    "    model_func = Model(inputs = x_input, output=x)\n",
    "    \n",
    "print(model_seq.summary())\n",
    "print(model_func.summary())"
   ]
  },
  {
   "cell_type": "code",
   "execution_count": 0,
   "metadata": {
    "colab": {
     "base_uri": "https://localhost:8080/",
     "height": 284
    },
    "colab_type": "code",
    "id": "-bp7PzX7oXtB",
    "outputId": "96c4daa6-aeeb-4fe8-c337-97052db1d973",
    "scrolled": true
   },
   "outputs": [
    {
     "name": "stdout",
     "output_type": "stream",
     "text": [
      "Train on 25000 samples, validate on 25000 samples\n",
      "Epoch 1/3\n",
      "25000/25000 [==============================] - 73s 3ms/step - loss: 0.2316 - acc: 0.9076 - val_loss: 0.3789 - val_acc: 0.8376\n",
      "Epoch 2/3\n",
      "25000/25000 [==============================] - 70s 3ms/step - loss: 0.1979 - acc: 0.9244 - val_loss: 0.3888 - val_acc: 0.8414\n",
      "Epoch 3/3\n",
      "25000/25000 [==============================] - 71s 3ms/step - loss: 0.1709 - acc: 0.9366 - val_loss: 0.4304 - val_acc: 0.8358\n",
      "Train on 25000 samples, validate on 25000 samples\n",
      "Epoch 1/3\n",
      "25000/25000 [==============================] - 73s 3ms/step - loss: 0.2169 - acc: 0.9149 - val_loss: 0.3714 - val_acc: 0.8460\n",
      "Epoch 2/3\n",
      "25000/25000 [==============================] - 71s 3ms/step - loss: 0.1896 - acc: 0.9279 - val_loss: 0.4143 - val_acc: 0.8411\n",
      "Epoch 3/3\n",
      "25000/25000 [==============================] - 70s 3ms/step - loss: 0.1626 - acc: 0.9376 - val_loss: 0.4636 - val_acc: 0.8394\n"
     ]
    },
    {
     "data": {
      "text/plain": [
       "<keras.callbacks.History at 0x7f48fb56edd8>"
      ]
     },
     "execution_count": 37,
     "metadata": {
      "tags": []
     },
     "output_type": "execute_result"
    }
   ],
   "source": [
    "# --- compile and fit the model\n",
    "model_seq.compile(loss='binary_crossentropy', optimizer='adam', metrics=['accuracy'])\n",
    "model_seq.fit(X_train, y_train, epochs=3, batch_size=64, validation_data=(X_test, y_test))\n",
    "\n",
    "model_func.compile(loss='binary_crossentropy', optimizer='adam', metrics=['accuracy'])\n",
    "model_func.fit(X_train, y_train, epochs=3, batch_size=64, validation_data=(X_test, y_test))"
   ]
  },
  {
   "cell_type": "markdown",
   "metadata": {
    "colab_type": "text",
    "id": "F1LN_fjMWBHJ"
   },
   "source": [
    "## Results\n",
    "\n",
    "After only 3 epochs, you should obtain an accuracy around 88% for the test data."
   ]
  },
  {
   "cell_type": "code",
   "execution_count": 0,
   "metadata": {
    "colab": {
     "base_uri": "https://localhost:8080/",
     "height": 52
    },
    "colab_type": "code",
    "id": "RlMEKRbzoavm",
    "outputId": "dbd37040-0f39-47ae-9e46-9a44f6a553d2"
   },
   "outputs": [
    {
     "name": "stdout",
     "output_type": "stream",
     "text": [
      "Accuracy: 83.58%\n",
      "Accuracy: 83.94%\n"
     ]
    }
   ],
   "source": [
    "# --- Final evaluation of the model\n",
    "scores_seq = model_seq.evaluate(X_test, y_test, verbose=0)\n",
    "print(\"Accuracy: %.2f%%\" % (scores_seq[1]*100))\n",
    "\n",
    "scores_func = model_func.evaluate(X_test, y_test, verbose=0)\n",
    "print(\"Accuracy: %.2f%%\" % (scores_func[1]*100)) "
   ]
  },
  {
   "cell_type": "markdown",
   "metadata": {
    "colab_type": "text",
    "id": "LVK5sGgF_HNX"
   },
   "source": [
    "# Evaluation\n",
    "\n",
    "To evaluate the work, you should rate the code for \n",
    "- 1) Data Pre-Processing (01)\n",
    "- 2) First model using the Sequential API (02)\n",
    "- 3) First model using the Functional API (03)\n",
    "- 4) Find equivalence between words (04)\n",
    "- 5) Second model using the Sequential API (05)\n",
    "- 6) Second model using the Functional API (06)\n"
   ]
  },
  {
   "cell_type": "code",
   "execution_count": 0,
   "metadata": {
    "colab": {},
    "colab_type": "code",
    "id": "NHUP4IA-_HNY"
   },
   "outputs": [],
   "source": []
  }
 ],
 "metadata": {
  "accelerator": "TPU",
  "colab": {
   "collapsed_sections": [],
   "name": "TP_Lab_keras_imdb_students.ipynb",
   "provenance": [],
   "toc_visible": true
  },
  "kernelspec": {
   "display_name": "Python 3",
   "language": "python",
   "name": "python3"
  },
  "language_info": {
   "codemirror_mode": {
    "name": "ipython",
    "version": 3
   },
   "file_extension": ".py",
   "mimetype": "text/x-python",
   "name": "python",
   "nbconvert_exporter": "python",
   "pygments_lexer": "ipython3",
   "version": "3.6.9"
  },
  "toc": {
   "base_numbering": 1,
   "nav_menu": {},
   "number_sections": true,
   "sideBar": true,
   "skip_h1_title": false,
   "title_cell": "Table of Contents",
   "title_sidebar": "Contents",
   "toc_cell": false,
   "toc_position": {},
   "toc_section_display": true,
   "toc_window_display": true
  }
 },
 "nbformat": 4,
 "nbformat_minor": 1
}
